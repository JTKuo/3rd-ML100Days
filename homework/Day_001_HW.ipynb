{
 "cells": [
  {
   "cell_type": "markdown",
   "metadata": {},
   "source": [
    "## 練習時間\n",
    "#### 請寫一個函式用來計算 Mean Square Error\n",
    "$ MSE = \\frac{1}{n}\\sum_{i=1}^{n}{(Y_i - \\hat{Y}_i)^2} $\n",
    "\n",
    "### Hint: [如何取平方](https://googoodesign.gitbooks.io/-ezpython/unit-1.html)"
   ]
  },
  {
   "cell_type": "markdown",
   "metadata": {},
   "source": [
    "# [作業目標]\n",
    "- 仿造範例的MAE函數, 自己寫一個MSE函數(參考上面公式)"
   ]
  },
  {
   "cell_type": "markdown",
   "metadata": {},
   "source": [
    "# [作業重點]\n",
    "- 注意程式的縮排\n",
    "- 是否能將數學公式, 轉換為 Python 的函式組合? (In[2], Out[2])"
   ]
  },
  {
   "cell_type": "code",
   "execution_count": 1,
   "metadata": {},
   "outputs": [],
   "source": [
    "# 載入基礎套件與代稱\n",
    "import numpy as np\n",
    "import matplotlib.pyplot as plt"
   ]
  },
  {
   "cell_type": "code",
   "execution_count": 6,
   "metadata": {},
   "outputs": [],
   "source": [
    "def mean_absolute_error(y, yp):\n",
    "    \"\"\"\n",
    "    計算 MAE\n",
    "    Args:\n",
    "        - y: 實際值\n",
    "        - yp: 預測值\n",
    "    Return:\n",
    "        - mae: MAE\n",
    "    \"\"\"\n",
    "    mae = MAE = sum(abs(y - yp)) / len(y)\n",
    "    return mae\n",
    "\n",
    "# 定義 mean_squared_error 這個函數, 計算並傳回 MSE\n",
    "def mean_squared_error(y, yp):\n",
    "    \"\"\"\n",
    "    請完成這個 Function 後往下執行\n",
    "    \"\"\"\n",
    "    mse = MSE = np.square(y - yp).mean()\n",
    "    return mse"
   ]
  },
  {
   "cell_type": "code",
   "execution_count": 7,
   "metadata": {},
   "outputs": [
    {
     "data": {
      "image/png": "[encoded data removed]",
      "text/plain": [
       "<Figure size 432x288 with 1 Axes>"
      ]
     },
     "metadata": {
      "needs_background": "light"
     },
     "output_type": "display_data"
    }
   ],
   "source": [
    "# 與範例相同, 不另外解說\n",
    "w = 3\n",
    "b = 0.5\n",
    "x_lin = np.linspace(0, 100, 101)\n",
    "y = (x_lin + np.random.randn(101) * 5) * w + b\n",
    "\n",
    "plt.plot(x_lin, y, 'b.', label = 'data points')\n",
    "plt.title(\"Assume we have data points\")\n",
    "plt.legend(loc = 2)\n",
    "plt.show()"
   ]
  },
  {
   "cell_type": "code",
   "execution_count": 8,
   "metadata": {},
   "outputs": [
    {
     "data": {
      "image/png": "[encoded data removed]",
      "text/plain": [
       "<Figure size 432x288 with 1 Axes>"
      ]
     },
     "metadata": {
      "needs_background": "light"
     },
     "output_type": "display_data"
    }
   ],
   "source": [
    "# 與範例相同, 不另外解說\n",
    "y_hat = x_lin * w + b\n",
    "plt.plot(x_lin, y, 'b.', label = 'data')\n",
    "plt.plot(x_lin, y_hat, 'r-', label = 'prediction')\n",
    "plt.title(\"Assume we have data points (And the prediction)\")\n",
    "plt.legend(loc = 2)\n",
    "plt.show()"
   ]
  },
  {
   "cell_type": "code",
   "execution_count": 9,
   "metadata": {},
   "outputs": [
    {
     "name": "stdout",
     "output_type": "stream",
     "text": [
      "The Mean squared error is 273.184\n",
      "The Mean absolute error is 13.027\n"
     ]
    }
   ],
   "source": [
    "# 執行 Function, 確認有沒有正常執行\n",
    "MSE = mean_squared_error(y, y_hat)\n",
    "MAE = mean_absolute_error(y, y_hat)\n",
    "print(\"The Mean squared error is %.3f\" % (MSE))\n",
    "print(\"The Mean absolute error is %.3f\" % (MAE))"
   ]
  },
  {
   "cell_type": "markdown",
   "metadata": {},
   "source": [
    "# [作業2]\n",
    "\n",
    "# 請上 Kaggle, 在 Competitions 或 Dataset 中找一組競賽或資料並寫下：\n",
    "\n",
    "   -- Chess Game Dataset (Lichess)\n",
    "   https://www.kaggle.com/datasnaek/chess#games.csv\n",
    "\n",
    "\n",
    "### 1. 你選的這組資料為何重要\n",
    "   -- 我覺得這筆資料的重點不在於他的實用性，而是在於它同時具備規則性與不確定性兩種特點。而且有通俗且既定的規則，非常便於初學者進行資料前處理的分析與過濾。讓初學者可以把重心放在模型的建立與改善上。\n",
    "\n",
    "### 2. 資料從何而來 (tips: 譬如提供者是誰、以什麼方式蒐集)\n",
    "   -- 由 Mitchell J 透過 Lichess 這個網站的 API (Lichess API ) 進行收集。\n",
    "\n",
    "### 3. 蒐集而來的資料型態為何\n",
    "   -- 以資料的型態分類來說，有 string、boolean、Numeric。但以資料種類來說，都可以視為數值類別。\n",
    "\n",
    "### 4. 這組資料想解決的問題如何評估\n",
    "   -- 這組資料主要是用來評估每一步棋與\"勝利\"之間的\"關聯性\"有多高，藉由眾多的棋譜去進行\"關聯性\"的評估。 \n",
    "   可以做為輸入的資料有 \"黑/白方\"、\"第幾步棋\"、\"雙方棋位\"、\"是否叫將?(誰勝?)\"、\"是否吃子\"、\"是否升變\"、\"棋子代號\" 等等。 \n",
    "   可以先針對黑白方進行分類，分成兩路進行訓練，最終輸出(黑方或是白方)與勝利之關聯性最高的\"棋位\"、\"棋子代號\"、\"關聯性\"， \n",
    "   即可輔助黑白雙方評估離勝利最近的下一步。 \n",
    "\n",
    "# [作業3]\n",
    "\n",
    "# 想像你經營一個自由載客車隊，你希望能透過數據分析以提升業績，請你思考並描述你如何規劃整體的分析/解決方案：\n",
    "\n",
    "### 1. 核心問題為何 (tips：如何定義 「提升業績 & 你的假設」)\n",
    "   -- 找出\"時程剛好\"、\"叫車密度高\" 的地點\n",
    "\n",
    "### 2. 資料從何而來 (tips：哪些資料可能會對你想問的問題產生影響 & 資料如何蒐集)\n",
    "   -- 從現有車隊的載車資訊上收集所需資料，有影響的資料為：\n",
    "      \"taxi ID\", \"taxi 被呼叫地點\", \"taxi 載客地點\", \"各車程與時數\", \"票價\", \"額外過路費\"\n",
    "\n",
    "### 3. 蒐集而來的資料型態為何\n",
    "   -- 以資料的型態分類來說，有 string、boolean、Numeric。但以資料種類來說，都可以視為數值類別。\n",
    "\n",
    "### 4. 你要回答的問題，其如何評估 (tips：你的假設如何驗證)\n",
    "   -- 這些資料主要是用來評估在哪個地方是在客密度最高且最划算的區域，藉由實際載客的數據進行評估。可以先將車時過長與額外過路費的資料去除，然後就可以把這些\"高收益\"的地點找出來，並做出分群的動作。最終模型的輸出，可以針對各個群聚設定一個距離，畫出\"高收益\"的範圍。例如說 A 是熱門的被呼叫地點，我可以輸入當下的地點，確認該地點為被呼叫地點的可能性為多少，更可自行設定一個距離畫圓，告知\"高收益\"地點範圍。"
   ]
  },
  {
   "cell_type": "code",
   "execution_count": null,
   "metadata": {},
   "outputs": [],
   "source": []
  }
 ],
 "metadata": {
  "anaconda-cloud": {},
  "kernelspec": {
   "display_name": "Python 3",
   "language": "python",
   "name": "python3"
  },
  "language_info": {
   "codemirror_mode": {
    "name": "ipython",
    "version": 3
   },
   "file_extension": ".py",
   "mimetype": "text/x-python",
   "name": "python",
   "nbconvert_exporter": "python",
   "pygments_lexer": "ipython3",
   "version": "3.7.3"
  }
 },
 "nbformat": 4,
 "nbformat_minor": 1
}
