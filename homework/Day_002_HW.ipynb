{
 "cells": [
  {
   "cell_type": "markdown",
   "metadata": {},
   "source": [
    "## [作業目標]\n",
    "了解機器學習適合應用的領域與範疇。"
   ]
  },
  {
   "cell_type": "markdown",
   "metadata": {},
   "source": [
    "## [作業重點]\n",
    "透過瞭解機器學習的運作方式，找出非常適用機器學習應用的領域及其原因"
   ]
  },
  {
   "cell_type": "markdown",
   "metadata": {},
   "source": [
    "## 作業\n",
    "請找出一個你認為機器學習可以發光發熱的領域並闡述原因? "
   ]
  },
  {
   "cell_type": "code",
   "execution_count": 3,
   "metadata": {},
   "outputs": [
    {
     "name": "stdout",
     "output_type": "stream",
     "text": [
      "我個人認為是醫學，有幾個原因：\n",
      "\n",
      "1. 醫學是最貼合大眾且無須具備專業知識就能獲得大眾重視的領域，把精力投注在醫學容易受到重視與支持。\n",
      "\n",
      "2. 醫學是個很嚴謹的領域，絕大多數病徵與理論都有其科學依據，便於進行資料收集與前處理分析。\n",
      "\n",
      "3. 醫學是個養成曲線非常長的領域，專業知識十分的龐雜，若能夠建立一個系統，替人們先進行簡易的診斷分析。不單單能夠大大減低醫療資源的負擔，更有利於醫療人員進行早期診斷。\n",
      "\n"
     ]
    }
   ],
   "source": [
    "print (\"我個人認為是醫學，有幾個原因：\\n\")\n",
    "print (\"1. 醫學是最貼合大眾且無須具備專業知識就能獲得大眾重視的領域，把精力投注在醫學容易受到重視與支持。\\n\")\n",
    "print (\"2. 醫學是個很嚴謹的領域，絕大多數病徵與理論都有其科學依據，便於進行資料收集與前處理分析。\\n\")\n",
    "print (\"3. 醫學是個養成曲線非常長的領域，專業知識十分的龐雜，若能夠建立一個系統，替人們先進行簡易的診斷分析。不單單能夠大大減低醫療資源的負擔，更有利於醫療人員進行早期診斷。\\n\")"
   ]
  },
  {
   "cell_type": "code",
   "execution_count": null,
   "metadata": {},
   "outputs": [],
   "source": []
  }
 ],
 "metadata": {
  "kernelspec": {
   "display_name": "Python 3",
   "language": "python",
   "name": "python3"
  },
  "language_info": {
   "codemirror_mode": {
    "name": "ipython",
    "version": 3
   },
   "file_extension": ".py",
   "mimetype": "text/x-python",
   "name": "python",
   "nbconvert_exporter": "python",
   "pygments_lexer": "ipython3",
   "version": "3.7.3"
  }
 },
 "nbformat": 4,
 "nbformat_minor": 2
}
